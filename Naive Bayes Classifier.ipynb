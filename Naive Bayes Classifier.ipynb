{
 "cells": [
  {
   "cell_type": "markdown",
   "metadata": {},
   "source": [
    "## Imports"
   ]
  },
  {
   "cell_type": "code",
   "execution_count": 1,
   "metadata": {},
   "outputs": [],
   "source": [
    "import numpy as np\n",
    "import matplotlib.pyplot as plt\n",
    "import cv2\n",
    "%matplotlib inline"
   ]
  },
  {
   "cell_type": "markdown",
   "metadata": {},
   "source": [
    "<hr style=\"border:2px solid black\"> </hr>\n",
    "\n",
    "## Classifier class and functions"
   ]
  },
  {
   "cell_type": "markdown",
   "metadata": {},
   "source": [
    "Functions to calculate the value of a gaussian distribution"
   ]
  },
  {
   "cell_type": "code",
   "execution_count": 2,
   "metadata": {},
   "outputs": [],
   "source": [
    "def gaussian_dist(x , mean , variance):\n",
    "    return (1 / np.sqrt(2*np.pi*variance)) * np.exp(((x-mean)**2) / (-2*variance))"
   ]
  },
  {
   "cell_type": "code",
   "execution_count": 3,
   "metadata": {},
   "outputs": [],
   "source": [
    "def multivariate_gaussian_dist(x , mean, covariance):\n",
    "    diff = x - mean\n",
    "    return -0.5 * (diff.T @ covariance[\"inverse\"] @ diff)"
   ]
  },
  {
   "cell_type": "markdown",
   "metadata": {},
   "source": [
    "Function to get the confusion matrix"
   ]
  },
  {
   "cell_type": "code",
   "execution_count": 4,
   "metadata": {},
   "outputs": [],
   "source": [
    "def get_confusion_matrix(Y_test, Y_predict, labels):\n",
    "    number_of_classes = len(labels)\n",
    "    confusion_matrix = np.zeros((number_of_classes, number_of_classes))\n",
    "    for i in range(len(Y_test)):\n",
    "        row = labels.index(Y_test[i])\n",
    "        column = labels.index(Y_predict[i])\n",
    "        confusion_matrix[row][column] += 1\n",
    "    return confusion_matrix"
   ]
  },
  {
   "cell_type": "markdown",
   "metadata": {},
   "source": [
    "Naive Bayes classifier class"
   ]
  },
  {
   "cell_type": "code",
   "execution_count": 5,
   "metadata": {},
   "outputs": [],
   "source": [
    "class NaiveBayesClassifier:\n",
    "    def __init__(self):\n",
    "        self.labels = []\n",
    "        self.count_classes = []\n",
    "        self.m_classes = []\n",
    "        self.v_classes = []\n",
    "    \n",
    "    def train(self, X_train, Y_train, labels):\n",
    "        self.labels = labels\n",
    "        X_classes = []\n",
    "        for i in range (0, len(labels)):\n",
    "            X_classes.append([])\n",
    "\n",
    "        for i in range (0, len(X_train)):\n",
    "            for j in range (0, len(labels)):\n",
    "                if Y_train[i] == labels[j]:\n",
    "                    X_classes[j].append(X_train[i])\n",
    "                    break\n",
    "\n",
    "        for i in range (0, len(X_classes)):\n",
    "            X_classes[i] = np.array(X_classes[i])\n",
    "            self.count_classes.append(len(X_classes[i]))\n",
    "            self.m_classes.append(np.mean(X_classes[i], axis=0))\n",
    "            self.v_classes.append(np.var(X_classes[i], axis=0))\n",
    "    \n",
    "\n",
    "    def predict(self, feature_vector):\n",
    "        p_classes = []\n",
    "        for i in range (0, len(self.labels)):\n",
    "            mean_class = self.m_classes[i]\n",
    "            variance_class = self.v_classes[i]\n",
    "            likelihood = np.prod(gaussian_dist(feature_vector, mean_class, variance_class))\n",
    "            prior = (self.count_classes[i] / sum(self.count_classes))\n",
    "            posterior = likelihood * prior\n",
    "            p_classes.append(posterior)\n",
    "        \n",
    "        max_p = -np.inf\n",
    "        max_p_class = \"\"\n",
    "        for i in range (0, len(self.labels)):\n",
    "            if p_classes[i] > max_p:\n",
    "                max_p = p_classes[i]\n",
    "                max_p_class = labels[i]\n",
    "\n",
    "        return max_p_class"
   ]
  },
  {
   "cell_type": "markdown",
   "metadata": {},
   "source": [
    "Gaussian generative classifier class"
   ]
  },
  {
   "cell_type": "code",
   "execution_count": 6,
   "metadata": {},
   "outputs": [],
   "source": [
    "class GaussianGenerativeClassifier:\n",
    "    def __init__(self):\n",
    "        self.labels = []\n",
    "        self.count_classes = []\n",
    "        self.m_classes = []\n",
    "        self.covariance_matrix = {}\n",
    "    \n",
    "    def train(self, X_train, Y_train, labels):\n",
    "        self.labels = labels\n",
    "        X_classes = []\n",
    "        for i in range (0, len(labels)):\n",
    "            X_classes.append([])\n",
    "\n",
    "        for i in range (0, len(X_train)):\n",
    "            for j in range (0, len(labels)):\n",
    "                if Y_train[i] == labels[j]:\n",
    "                    X_classes[j].append(X_train[i])\n",
    "                    break\n",
    "\n",
    "        number_of_datapoints = X_train.shape[0]\n",
    "        number_of_features = X_train.shape[1]\n",
    "        covariance_matrix = np.zeros((number_of_features, number_of_features))\n",
    "        for i in range (0, len(X_classes)):\n",
    "            X_classes[i] = np.array(X_classes[i])\n",
    "            n_class = len(X_classes[i])\n",
    "            m_class = np.mean(X_classes[i], axis=0)\n",
    "            for j in range (0, len(X_classes[i])):\n",
    "                diff = (X_classes[i][j] - m_class).reshape(-1, 1)\n",
    "                covariance_matrix += (diff @ diff.T)\n",
    "            self.count_classes.append(n_class)\n",
    "            self.m_classes.append(m_class)\n",
    "        \n",
    "        covariance_matrix /= number_of_datapoints\n",
    "        self.covariance_matrix[\"matrix\"] = covariance_matrix\n",
    "        self.covariance_matrix[\"inverse\"] = np.linalg.pinv(covariance_matrix)\n",
    "    \n",
    "    \n",
    "    def predict(self, feature_vector):\n",
    "        p_classes = []\n",
    "        for i in range (0, len(self.labels)):\n",
    "            likelihood = multivariate_gaussian_dist(feature_vector, self.m_classes[i], self.covariance_matrix)\n",
    "            prior = self.count_classes[i] / sum(self.count_classes)\n",
    "            posterior = likelihood * prior\n",
    "            p_classes.append(posterior)\n",
    "        \n",
    "        max_p = -np.inf\n",
    "        max_p_class = \"\"\n",
    "        for i in range (0, len(self.labels)):\n",
    "            if p_classes[i] > max_p:\n",
    "                max_p = p_classes[i]\n",
    "                max_p_class = labels[i]\n",
    "\n",
    "        return max_p_class"
   ]
  },
  {
   "cell_type": "markdown",
   "metadata": {},
   "source": [
    "<hr style=\"border:2px solid black\"> </hr>\n",
    "\n",
    "## Getting the images and their labels"
   ]
  },
  {
   "cell_type": "markdown",
   "metadata": {},
   "source": [
    "Read training and testing images"
   ]
  },
  {
   "cell_type": "code",
   "execution_count": 7,
   "metadata": {},
   "outputs": [],
   "source": [
    "airplane_train_images = np.array([cv2.imread(\"Data/Train/airplane/\"+str(i)+\".jpg\") for i in range(0, 5000)])\n",
    "automobile_train_images = np.array([cv2.imread(\"Data/Train/automobile/\"+str(i)+\".jpg\") for i in range(0, 5000)])\n",
    "frog_train_images = np.array([cv2.imread(\"Data/Train/frog/\"+str(i)+\".jpg\") for i in range(0, 5000)])\n",
    "\n",
    "airplane_test_images = np.array([cv2.imread(\"Data/Test/airplane/\"+str(i)+\".jpg\") for i in range(0, 1000)])\n",
    "automobile_test_images = np.array([cv2.imread(\"Data/Test/automobile/\"+str(i)+\".jpg\") for i in range(0, 1000)])\n",
    "frog_test_images = np.array([cv2.imread(\"Data/Test/frog/\"+str(i)+\".jpg\") for i in range(0, 1000)])"
   ]
  },
  {
   "cell_type": "markdown",
   "metadata": {},
   "source": [
    "Getting labels for all the classes train and test data"
   ]
  },
  {
   "cell_type": "code",
   "execution_count": 8,
   "metadata": {},
   "outputs": [],
   "source": [
    "Y_train = [\"airplane\" for i in range(airplane_train_images.shape[0])]\n",
    "Y_train += [\"automobile\" for i in range(automobile_train_images.shape[0])]\n",
    "Y_train += [\"frog\" for i in range(frog_train_images.shape[0])]\n",
    "\n",
    "Y_test = [\"airplane\" for i in range(airplane_test_images.shape[0])]\n",
    "Y_test += [\"automobile\" for i in range(automobile_test_images.shape[0])]\n",
    "Y_test += [\"frog\" for i in range(frog_test_images.shape[0])]\n",
    "\n",
    "labels = [\"airplane\", \"automobile\", \"frog\"]"
   ]
  },
  {
   "cell_type": "markdown",
   "metadata": {},
   "source": [
    "<hr style=\"border:2px solid black\"> </hr>\n",
    "\n",
    "## Training and testing the classifiers"
   ]
  },
  {
   "cell_type": "markdown",
   "metadata": {},
   "source": [
    "Initialize confusion matrices arrays"
   ]
  },
  {
   "cell_type": "code",
   "execution_count": 9,
   "metadata": {},
   "outputs": [],
   "source": [
    "confusion_matrices_nb = []\n",
    "confusion_matrices_gm = []"
   ]
  },
  {
   "cell_type": "markdown",
   "metadata": {},
   "source": [
    "### 32X32"
   ]
  },
  {
   "cell_type": "markdown",
   "metadata": {},
   "source": [
    "Transforming the images into feature vectors and normalizing them"
   ]
  },
  {
   "cell_type": "code",
   "execution_count": 10,
   "metadata": {},
   "outputs": [],
   "source": [
    "X_airplane_train_32 = np.array([airplane_train_images[i].reshape(-1) for i in range(0, airplane_train_images.shape[0])])\n",
    "X_automobile_train_32 = np.array([automobile_train_images[i].reshape(-1) for i in range(0, automobile_train_images.shape[0])])\n",
    "X_frog_train_32 = np.array([frog_train_images[i].reshape(-1) for i in range(0, frog_train_images.shape[0])])\n",
    "\n",
    "X_airplane_test_32 = np.array([airplane_test_images[i].reshape(-1) for i in range(0, airplane_test_images.shape[0])])\n",
    "X_automobile_test_32 = np.array([automobile_test_images[i].reshape(-1) for i in range(0, automobile_test_images.shape[0])])\n",
    "X_frog_test_32 = np.array([frog_test_images[i].reshape(-1) for i in range(0, frog_test_images.shape[0])])\n",
    "\n",
    "X_train_32 = np.concatenate((X_airplane_train_32, X_automobile_train_32, X_frog_train_32)) / 255.0\n",
    "X_test_32 = np.concatenate((X_airplane_test_32, X_automobile_test_32, X_frog_test_32)) / 255.0"
   ]
  },
  {
   "cell_type": "markdown",
   "metadata": {},
   "source": [
    "Train and test Naive Bayes classifier"
   ]
  },
  {
   "cell_type": "code",
   "execution_count": 11,
   "metadata": {},
   "outputs": [],
   "source": [
    "nb_classifier_32 = NaiveBayesClassifier()\n",
    "nb_classifier_32.train(X_train_32, Y_train, labels)"
   ]
  },
  {
   "cell_type": "code",
   "execution_count": null,
   "metadata": {},
   "outputs": [],
   "source": [
    "Y_predict_nb_32 = []\n",
    "for i in range(X_test_32.shape[0]):\n",
    "    Y_predict_nb_32.append(nb_classifier_32.predict(X_test_32[i]))\n",
    "\n",
    "confusion_matrix_nb_32 = get_confusion_matrix(Y_test, Y_predict_nb_32, labels)\n",
    "confusion_matrices_nb += [confusion_matrix_nb_32]"
   ]
  },
  {
   "cell_type": "markdown",
   "metadata": {},
   "source": [
    "Train and test gaussian generative classifier"
   ]
  },
  {
   "cell_type": "code",
   "execution_count": 13,
   "metadata": {},
   "outputs": [],
   "source": [
    "gm_classifier_32 = GaussianGenerativeClassifier()\n",
    "gm_classifier_32.train(X_train_32, Y_train, labels)"
   ]
  },
  {
   "cell_type": "code",
   "execution_count": 14,
   "metadata": {},
   "outputs": [],
   "source": [
    "Y_predict_gm_32 = []\n",
    "for i in range(X_test_32.shape[0]):\n",
    "    Y_predict_gm_32.append(gm_classifier_32.predict(X_test_32[i]))\n",
    "\n",
    "confusion_matrix_gm_32 = get_confusion_matrix(Y_test, Y_predict_gm_32, labels)\n",
    "confusion_matrices_gm += [confusion_matrix_gm_32]"
   ]
  },
  {
   "cell_type": "markdown",
   "metadata": {},
   "source": [
    "### 16X16"
   ]
  },
  {
   "cell_type": "markdown",
   "metadata": {},
   "source": [
    "Transforming the images into feature vectors and normalizing them"
   ]
  },
  {
   "cell_type": "code",
   "execution_count": 15,
   "metadata": {},
   "outputs": [],
   "source": [
    "X_airplane_train_16 = np.array([cv2.resize(airplane_train_images[i], (16,16), interpolation = cv2.INTER_AREA).reshape(-1) for i in range(0, airplane_train_images.shape[0])])\n",
    "X_automobile_train_16 = np.array([cv2.resize(automobile_train_images[i], (16,16), interpolation = cv2.INTER_AREA).reshape(-1) for i in range(0, automobile_train_images.shape[0])])\n",
    "X_frog_train_16 = np.array([cv2.resize(frog_train_images[i], (16,16), interpolation = cv2.INTER_AREA).reshape(-1) for i in range(0, frog_train_images.shape[0])])\n",
    "\n",
    "X_airplane_test_16 = np.array([cv2.resize(airplane_test_images[i], (16,16), interpolation = cv2.INTER_AREA).reshape(-1) for i in range(0, airplane_test_images.shape[0])])\n",
    "X_automobile_test_16 = np.array([cv2.resize(automobile_test_images[i], (16,16), interpolation = cv2.INTER_AREA).reshape(-1) for i in range(0, automobile_test_images.shape[0])])\n",
    "X_frog_test_16 = np.array([cv2.resize(frog_test_images[i], (16,16), interpolation = cv2.INTER_AREA).reshape(-1) for i in range(0, frog_test_images.shape[0])])\n",
    "\n",
    "X_train_16 = np.concatenate((X_airplane_train_16, X_automobile_train_16, X_frog_train_16)) / 255.0\n",
    "X_test_16 = np.concatenate((X_airplane_test_16, X_automobile_test_16, X_frog_test_16)) / 255.0"
   ]
  },
  {
   "cell_type": "markdown",
   "metadata": {},
   "source": [
    "Train and test Naive Bayes classifier"
   ]
  },
  {
   "cell_type": "code",
   "execution_count": 16,
   "metadata": {},
   "outputs": [],
   "source": [
    "nb_classifier_16 = NaiveBayesClassifier()\n",
    "nb_classifier_16.train(X_train_16, Y_train, labels)"
   ]
  },
  {
   "cell_type": "code",
   "execution_count": 17,
   "metadata": {},
   "outputs": [],
   "source": [
    "Y_predict_nb_16 = []\n",
    "for i in range(X_test_16.shape[0]):\n",
    "    Y_predict_nb_16.append(nb_classifier_16.predict(X_test_16[i]))\n",
    "\n",
    "confusion_matrix_nb_16 = get_confusion_matrix(Y_test, Y_predict_nb_16, labels)\n",
    "confusion_matrices_nb += [confusion_matrix_nb_16]"
   ]
  },
  {
   "cell_type": "markdown",
   "metadata": {},
   "source": [
    "Train and test gaussian generative classifier"
   ]
  },
  {
   "cell_type": "code",
   "execution_count": 18,
   "metadata": {},
   "outputs": [],
   "source": [
    "gm_classifier_16 = GaussianGenerativeClassifier()\n",
    "gm_classifier_16.train(X_train_16, Y_train, labels)"
   ]
  },
  {
   "cell_type": "code",
   "execution_count": 19,
   "metadata": {},
   "outputs": [],
   "source": [
    "Y_predict_gm_16 = []\n",
    "for i in range(X_test_16.shape[0]):\n",
    "    Y_predict_gm_16.append(gm_classifier_16.predict(X_test_16[i]))\n",
    "\n",
    "confusion_matrix_gm_16 = get_confusion_matrix(Y_test, Y_predict_gm_16, labels)\n",
    "confusion_matrices_gm += [confusion_matrix_gm_16]"
   ]
  },
  {
   "cell_type": "markdown",
   "metadata": {},
   "source": [
    "### 8X8"
   ]
  },
  {
   "cell_type": "markdown",
   "metadata": {},
   "source": [
    "Transforming the images into feature vectors and normalizing them"
   ]
  },
  {
   "cell_type": "code",
   "execution_count": 20,
   "metadata": {},
   "outputs": [],
   "source": [
    "X_airplane_train_8 = np.array([cv2.resize(airplane_train_images[i], (8,8), interpolation = cv2.INTER_AREA).reshape(-1) for i in range(0, airplane_train_images.shape[0])])\n",
    "X_automobile_train_8 = np.array([cv2.resize(automobile_train_images[i], (8,8), interpolation = cv2.INTER_AREA).reshape(-1) for i in range(0, automobile_train_images.shape[0])])\n",
    "X_frog_train_8 = np.array([cv2.resize(frog_train_images[i], (8,8), interpolation = cv2.INTER_AREA).reshape(-1) for i in range(0, frog_train_images.shape[0])])\n",
    "\n",
    "X_airplane_test_8 = np.array([cv2.resize(airplane_test_images[i], (8,8), interpolation = cv2.INTER_AREA).reshape(-1) for i in range(0, airplane_test_images.shape[0])])\n",
    "X_automobile_test_8 = np.array([cv2.resize(automobile_test_images[i], (8,8), interpolation = cv2.INTER_AREA).reshape(-1) for i in range(0, automobile_test_images.shape[0])])\n",
    "X_frog_test_8 = np.array([cv2.resize(frog_test_images[i], (8,8), interpolation = cv2.INTER_AREA).reshape(-1) for i in range(0, frog_test_images.shape[0])])\n",
    "\n",
    "X_train_8 = np.concatenate((X_airplane_train_8, X_automobile_train_8, X_frog_train_8)) / 255.0\n",
    "X_test_8 = np.concatenate((X_airplane_test_8, X_automobile_test_8, X_frog_test_8)) / 255.0"
   ]
  },
  {
   "cell_type": "markdown",
   "metadata": {},
   "source": [
    "Train and test Naive Bayes classifier"
   ]
  },
  {
   "cell_type": "code",
   "execution_count": 21,
   "metadata": {},
   "outputs": [],
   "source": [
    "nb_classifier_8 = NaiveBayesClassifier()\n",
    "nb_classifier_8.train(X_train_8, Y_train, labels)"
   ]
  },
  {
   "cell_type": "code",
   "execution_count": 22,
   "metadata": {},
   "outputs": [],
   "source": [
    "Y_predict_nb_8 = []\n",
    "for i in range(X_test_8.shape[0]):\n",
    "    Y_predict_nb_8.append(nb_classifier_8.predict(X_test_8[i]))\n",
    "\n",
    "confusion_matrix_nb_8 = get_confusion_matrix(Y_test, Y_predict_nb_8, labels)\n",
    "confusion_matrices_nb += [confusion_matrix_nb_8]"
   ]
  },
  {
   "cell_type": "markdown",
   "metadata": {},
   "source": [
    "Train and test gaussian generative classifier"
   ]
  },
  {
   "cell_type": "code",
   "execution_count": 23,
   "metadata": {},
   "outputs": [],
   "source": [
    "gm_classifier_8 = GaussianGenerativeClassifier()\n",
    "gm_classifier_8.train(X_train_8, Y_train, labels)"
   ]
  },
  {
   "cell_type": "code",
   "execution_count": 24,
   "metadata": {},
   "outputs": [],
   "source": [
    "Y_predict_gm_8 = []\n",
    "for i in range(X_test_8.shape[0]):\n",
    "    Y_predict_gm_8.append(gm_classifier_8.predict(X_test_8[i]))\n",
    "\n",
    "confusion_matrix_gm_8 = get_confusion_matrix(Y_test, Y_predict_gm_8, labels)\n",
    "confusion_matrices_gm += [confusion_matrix_gm_8]"
   ]
  },
  {
   "cell_type": "markdown",
   "metadata": {},
   "source": [
    "### 4X4"
   ]
  },
  {
   "cell_type": "markdown",
   "metadata": {},
   "source": [
    "Transforming the images into feature vectors and normalizing them"
   ]
  },
  {
   "cell_type": "code",
   "execution_count": 25,
   "metadata": {},
   "outputs": [],
   "source": [
    "X_airplane_train_4 = np.array([cv2.resize(airplane_train_images[i], (4,4), interpolation = cv2.INTER_AREA).reshape(-1) for i in range(0, airplane_train_images.shape[0])])\n",
    "X_automobile_train_4 = np.array([cv2.resize(automobile_train_images[i], (4,4), interpolation = cv2.INTER_AREA).reshape(-1) for i in range(0, automobile_train_images.shape[0])])\n",
    "X_frog_train_4 = np.array([cv2.resize(frog_train_images[i], (4,4), interpolation = cv2.INTER_AREA).reshape(-1) for i in range(0, frog_train_images.shape[0])])\n",
    "\n",
    "X_airplane_test_4 = np.array([cv2.resize(airplane_test_images[i], (4,4), interpolation = cv2.INTER_AREA).reshape(-1) for i in range(0, airplane_test_images.shape[0])])\n",
    "X_automobile_test_4 = np.array([cv2.resize(automobile_test_images[i], (4,4), interpolation = cv2.INTER_AREA).reshape(-1) for i in range(0, automobile_test_images.shape[0])])\n",
    "X_frog_test_4 = np.array([cv2.resize(frog_test_images[i], (4,4), interpolation = cv2.INTER_AREA).reshape(-1) for i in range(0, frog_test_images.shape[0])])\n",
    "\n",
    "X_train_4 = np.concatenate((X_airplane_train_4, X_automobile_train_4, X_frog_train_4)) / 255.0\n",
    "X_test_4 = np.concatenate((X_airplane_test_4, X_automobile_test_4, X_frog_test_4)) / 255.0"
   ]
  },
  {
   "cell_type": "markdown",
   "metadata": {},
   "source": [
    "Train and test Naive Bayes classifier"
   ]
  },
  {
   "cell_type": "code",
   "execution_count": 26,
   "metadata": {},
   "outputs": [],
   "source": [
    "nb_classifier_4 = NaiveBayesClassifier()\n",
    "nb_classifier_4.train(X_train_4, Y_train, labels)"
   ]
  },
  {
   "cell_type": "code",
   "execution_count": 27,
   "metadata": {},
   "outputs": [],
   "source": [
    "Y_predict_nb_4 = []\n",
    "for i in range(X_test_4.shape[0]):\n",
    "    Y_predict_nb_4.append(nb_classifier_4.predict(X_test_4[i]))\n",
    "\n",
    "confusion_matrix_nb_4 = get_confusion_matrix(Y_test, Y_predict_nb_4, labels)\n",
    "confusion_matrices_nb += [confusion_matrix_nb_4]"
   ]
  },
  {
   "cell_type": "markdown",
   "metadata": {},
   "source": [
    "Train and test gaussian generative classifier"
   ]
  },
  {
   "cell_type": "code",
   "execution_count": 28,
   "metadata": {},
   "outputs": [],
   "source": [
    "gm_classifier_4 = GaussianGenerativeClassifier()\n",
    "gm_classifier_4.train(X_train_4, Y_train, labels)"
   ]
  },
  {
   "cell_type": "code",
   "execution_count": 29,
   "metadata": {},
   "outputs": [],
   "source": [
    "Y_predict_gm_4 = []\n",
    "for i in range(X_test_4.shape[0]):\n",
    "    Y_predict_gm_4.append(gm_classifier_4.predict(X_test_4[i]))\n",
    "\n",
    "confusion_matrix_gm_4 = get_confusion_matrix(Y_test, Y_predict_gm_4, labels)\n",
    "confusion_matrices_gm += [confusion_matrix_gm_4]"
   ]
  },
  {
   "cell_type": "markdown",
   "metadata": {},
   "source": [
    "<hr style=\"border:2px solid black\"> </hr>\n",
    "\n",
    "## Plotting the results"
   ]
  },
  {
   "cell_type": "code",
   "execution_count": 30,
   "metadata": {},
   "outputs": [],
   "source": [
    "confusion_matrices = confusion_matrices_nb + confusion_matrices_gm"
   ]
  },
  {
   "cell_type": "code",
   "execution_count": 31,
   "metadata": {},
   "outputs": [
    {
     "data": {
      "image/png": "[encoded data removed]",
      "text/plain": [
       "<Figure size 1440x720 with 8 Axes>"
      ]
     },
     "metadata": {},
     "output_type": "display_data"
    }
   ],
   "source": [
    "dims = [32,16,8,4,32,16,8,4]\n",
    "fig, axs = plt.subplots(2, 4,figsize=(20,10))\n",
    "fig.suptitle(\"Confusion Matrix for each Scale\",fontsize=30)\n",
    "for pi in range(0,axs.shape[0]):\n",
    "    for pj in range(0,axs.shape[1]):\n",
    "        index = np.round(pi*4+pj)\n",
    "        cm = confusion_matrices[index]\n",
    "        axs[pi,pj].matshow(cm,cmap=\"Blues\")\n",
    "        axs[pi,pj].set_title(\"For d=\"+str(dims[index])+\" ,acc=\"+str(np.round(np.diag(cm).sum()/3000,3)),fontsize=20)\n",
    "        for i in range(0,cm.shape[0]):\n",
    "            for j in range(0,cm.shape[1]):\n",
    "                axs[pi,pj].set_xticks([])\n",
    "                axs[pi,pj].set_yticks([])\n",
    "                axs[pi,pj].annotate(cm[i,j],(j,i))\n",
    "plt.savefig(\"figure_confusion_matrices\")"
   ]
  },
  {
   "cell_type": "code",
   "execution_count": 32,
   "metadata": {},
   "outputs": [
    {
     "data": {
      "image/png": "[encoded data removed]",
      "text/plain": [
       "<Figure size 1440x720 with 1 Axes>"
      ]
     },
     "metadata": {
      "needs_background": "light"
     },
     "output_type": "display_data"
    }
   ],
   "source": [
    "plt.figure(figsize=(20,10))\n",
    "plt.plot(dims[:4],[np.diag(cm).sum()/3000 for cm in confusion_matrices_nb],color='orange')\n",
    "plt.plot(dims[:4],[np.diag(cm).sum()/3000 for cm in confusion_matrices_gm],color='blue')\n",
    "plt.xlabel('Scale')\n",
    "plt.ylabel('Accuracy')\n",
    "plt.title('NB VS GM')\n",
    "plt.savefig(\"figure_comparison\")"
   ]
  },
  {
   "cell_type": "markdown",
   "metadata": {},
   "source": [
    "<hr style=\"border:2px solid black\"> </hr>\n",
    "\n",
    "## Comments\n",
    "\n",
    "Based on the results shown above, applying the maximum likelihood estimation of the Gaussian generative model is better in classifying the images than the Naive Bayes classifier. This is due to the assumption of the Naive Bayes classifier that the different features (dimensions) are independant, while in general they may be. However, the Gaussian generative model accounts for dependencies between the features as the dependancies are calculated in the covariance matrix by calculating the values of the covariance between the features, which leads to better results.\n",
    "\n",
    "<hr style=\"border:2px solid black\"> </hr>"
   ]
  }
 ],
 "metadata": {
  "interpreter": {
   "hash": "31f2aee4e71d21fbe5cf8b01ff0e069b9275f58929596ceb00d14d90e3e16cd6"
  },
  "kernelspec": {
   "display_name": "Python 3",
   "language": "python",
   "name": "python3"
  },
  "language_info": {
   "codemirror_mode": {
    "name": "ipython",
    "version": 3
   },
   "file_extension": ".py",
   "mimetype": "text/x-python",
   "name": "python",
   "nbconvert_exporter": "python",
   "pygments_lexer": "ipython3",
   "version": "3.8.12"
  }
 },
 "nbformat": 4,
 "nbformat_minor": 4
}
